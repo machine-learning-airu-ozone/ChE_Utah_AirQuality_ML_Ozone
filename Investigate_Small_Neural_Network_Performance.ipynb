{
  "nbformat": 4,
  "nbformat_minor": 0,
  "metadata": {
    "colab": {
      "name": "Investigate_Small_Neural_Network.ipynb",
      "version": "0.3.2",
      "provenance": [],
      "collapsed_sections": [],
      "include_colab_link": true
    },
    "kernelspec": {
      "name": "python3",
      "display_name": "Python 3"
    },
    "accelerator": "GPU"
  },
  "cells": [
    {
      "cell_type": "markdown",
      "metadata": {
        "id": "view-in-github",
        "colab_type": "text"
      },
      "source": [
        "<a href=\"https://colab.research.google.com/github/machine-learning-airu-ozone/ChE_Utah_AirQuality_ML_Ozone/blob/master/Investigate_Small_Neural_Network_Performance.ipynb\" target=\"_parent\"><img src=\"https://colab.research.google.com/assets/colab-badge.svg\" alt=\"Open In Colab\"/></a>"
      ]
    },
    {
      "cell_type": "markdown",
      "metadata": {
        "id": "lYRyGd5toEtA",
        "colab_type": "text"
      },
      "source": [
        "![alt text](https://)\n",
        "# Investigate Small Neural Network\n",
        "## Summer 2019-Air U Project \n",
        "### Timothy Quah\n",
        "\n",
        "This script was used to investigate the minimal number of nodes and layers"
      ]
    },
    {
      "cell_type": "code",
      "metadata": {
        "id": "EGdFJhW6rVZf",
        "colab_type": "code",
        "colab": {}
      },
      "source": [
        ""
      ],
      "execution_count": 0,
      "outputs": []
    },
    {
      "cell_type": "markdown",
      "metadata": {
        "id": "SrWNnKfpo7jE",
        "colab_type": "text"
      },
      "source": [
        "###  Load Data into Google Colab"
      ]
    },
    {
      "cell_type": "markdown",
      "metadata": {
        "id": "521dQaTBoaXF",
        "colab_type": "text"
      },
      "source": [
        "First thing we must do is to load our data into the Google Colab environment. To do this we must do the following:\n",
        "First we need to mount the drive which we use the following lines to do. There are ways to automate this process, but I am honestly a bit too lazy to do this."
      ]
    },
    {
      "cell_type": "code",
      "metadata": {
        "id": "oQkUBhbzoBJg",
        "colab_type": "code",
        "outputId": "bed3f2c3-eb22-446e-e7ff-30b10f806a28",
        "colab": {
          "base_uri": "https://localhost:8080/",
          "height": 34
        }
      },
      "source": [
        "from google.colab import drive\n",
        "drive.mount('/content/drive')"
      ],
      "execution_count": 0,
      "outputs": [
        {
          "output_type": "stream",
          "text": [
            "Drive already mounted at /content/drive; to attempt to forcibly remount, call drive.mount(\"/content/drive\", force_remount=True).\n"
          ],
          "name": "stdout"
        }
      ]
    },
    {
      "cell_type": "markdown",
      "metadata": {
        "id": "1s6yBjx-pt8N",
        "colab_type": "text"
      },
      "source": [
        "The next step we will do is to verify that the path exist to our files that we have stored on google drive. "
      ]
    },
    {
      "cell_type": "code",
      "metadata": {
        "id": "ggZr0_QMxNId",
        "colab_type": "code",
        "outputId": "ff1d20fc-b272-4012-c22b-5dd9e06760b5",
        "colab": {
          "base_uri": "https://localhost:8080/",
          "height": 51
        }
      },
      "source": [
        "import os\n",
        "# import data\n",
        "import_data_path = '/content/drive/My Drive/AirQuality_Research/Remove_Params_Upload_GoogleDrive/SWD/'\n",
        "import_script_path = '/content/drive/My Drive/AirQuality_Research/Functions/'\n",
        "\n",
        "print('Does Data Path? '+str(os.path.exists(import_data_path)))\n",
        "print('Does Function Path? '+str(os.path.exists(import_script_path)))"
      ],
      "execution_count": 0,
      "outputs": [
        {
          "output_type": "stream",
          "text": [
            "Does Data Path? True\n",
            "Does Function Path? True\n"
          ],
          "name": "stdout"
        }
      ]
    },
    {
      "cell_type": "markdown",
      "metadata": {
        "id": "9WcmQzHVyWtA",
        "colab_type": "text"
      },
      "source": [
        "Next we import all the packages we need. If you need a specific version it is possible, but will take an extra line: example  !pip install seaborn==0.9.0\n"
      ]
    },
    {
      "cell_type": "code",
      "metadata": {
        "id": "XbNnV-aAyaZj",
        "colab_type": "code",
        "colab": {}
      },
      "source": [
        "import os\n",
        "import pandas as pd\n",
        "import numpy as np\n",
        "import matplotlib.pyplot as plt\n",
        "import keras.optimizers as optimizers\n",
        "from keras.models import Sequential\n",
        "from keras.layers import Dense\n",
        "import matplotlib.pyplot as plt\n",
        "import random\n",
        "from copy import deepcopy\n",
        "from keras import backend as K\n"
      ],
      "execution_count": 0,
      "outputs": []
    },
    {
      "cell_type": "markdown",
      "metadata": {
        "id": "N7F7XMIn1La2",
        "colab_type": "text"
      },
      "source": [
        "Now we need to load some scripts from our custom made functions into the enviroment"
      ]
    },
    {
      "cell_type": "code",
      "metadata": {
        "id": "OL6eqJWo1TvV",
        "colab_type": "code",
        "colab": {}
      },
      "source": [
        "os.chdir(import_script_path)\n",
        "from Trainer_Functions import r2_keras,model_neural_network,load_evaluate_neural_net,norm_divider,divider_XY,mse,r2\n"
      ],
      "execution_count": 0,
      "outputs": []
    },
    {
      "cell_type": "markdown",
      "metadata": {
        "id": "QwebNnvN4neZ",
        "colab_type": "text"
      },
      "source": [
        "This function is used to generate the exported textfile "
      ]
    },
    {
      "cell_type": "code",
      "metadata": {
        "id": "4CYHo5XykMQw",
        "colab_type": "code",
        "colab": {}
      },
      "source": [
        "def export_text(data,name_list,layers,repeat):\n",
        "    name = 'layers_'+str(layers)+'_low_node_repeat_'+str(repeat)+'.txt'\n",
        "    text_file = open(name,'w')\n",
        "    for i in name_list:\n",
        "        text_file.write(i)\n",
        "        text_file.write(' ')\n",
        "        \n",
        "    row,column = data.shape\n",
        "    for i in range(0,row,1):\n",
        "        text_file.write('\\n')\n",
        "        for j in range(0,column,1):\n",
        "            text_file.write(str(data[i,j]))\n",
        "            text_file.write(' ')\n",
        "    text_file.close()\n",
        "    return name\n"
      ],
      "execution_count": 0,
      "outputs": []
    },
    {
      "cell_type": "markdown",
      "metadata": {
        "id": "LIWzCApazPyV",
        "colab_type": "text"
      },
      "source": [
        "Next we need to just make sure to close all plots and just in case we have set random seeds\n"
      ]
    },
    {
      "cell_type": "code",
      "metadata": {
        "id": "UJt6W9_m2Mqq",
        "colab_type": "code",
        "outputId": "b5b0c2ae-e829-4f84-90ca-b5497abcc676",
        "colab": {
          "base_uri": "https://localhost:8080/",
          "height": 34
        }
      },
      "source": [
        "plt.close('all')\n",
        "load_data_list = os.listdir(import_data_path)\n",
        "print(load_data_list)"
      ],
      "execution_count": 0,
      "outputs": [
        {
          "output_type": "stream",
          "text": [
            "['outsider_data.csv', 'train_validate_data.csv']\n"
          ],
          "name": "stdout"
        }
      ]
    },
    {
      "cell_type": "markdown",
      "metadata": {
        "id": "rKehy-FG3L89",
        "colab_type": "text"
      },
      "source": [
        "We see in this case we have two files one called 'All_Data_norm.csv' we will load both files (including 'train_validate_data.csv') now"
      ]
    },
    {
      "cell_type": "code",
      "metadata": {
        "id": "jqAlFzlF2_N-",
        "colab_type": "code",
        "colab": {}
      },
      "source": [
        "i = 1\n",
        "full_path = os.path.join(import_data_path,load_data_list[i])\n",
        "df = pd.read_csv(full_path)\n",
        "header =list(df) \n"
      ],
      "execution_count": 0,
      "outputs": []
    },
    {
      "cell_type": "markdown",
      "metadata": {
        "id": "p6auTiOA5Z0Z",
        "colab_type": "text"
      },
      "source": [
        "Now we need to decide which parameters we want to include in the Neural Network. For the sake of the template/tutorial we will keep everything with the exception of  NO2/CO value from DAQ\n"
      ]
    },
    {
      "cell_type": "code",
      "metadata": {
        "id": "aOYxsDx15ZCw",
        "colab_type": "code",
        "outputId": "47a0bc86-a4b5-4f0b-a749-469d3f56d563",
        "colab": {
          "base_uri": "https://localhost:8080/",
          "height": 71
        }
      },
      "source": [
        "print(header)\n",
        "print(len(header))"
      ],
      "execution_count": 0,
      "outputs": [
        {
          "output_type": "stream",
          "text": [
            "['Day', 'Hour', 'Month', 'CO_AIR_U_Sensor', 'Humidity_AIR_U_Sensor', 'MICS_AIR_U_Sensor', 'NO_AIR_U_Sensor', 'O3 Value', 'PM10_AIR_U_Sensor', 'PM1_AIR_U_Sensor', 'RH Value', 'SR Value', 'SWS Value', 'TEMP Value', 'Temperature_AIR_U_Sensor', 'Min_CO_AIR_U_Sensor', 'Max_CO_AIR_U_Sensor', 'Min_Humidity_AIR_U_Sensor', 'Max_Humidity_AIR_U_Sensor', 'Min_MICS_AIR_U_Sensor', 'Max_MICS_AIR_U_Sensor', 'Min_NO_AIR_U_Sensor', 'Max_NO_AIR_U_Sensor', 'Min_PM10_AIR_U_Sensor', 'Max_PM10_AIR_U_Sensor', 'Min_PM1_AIR_U_Sensor', 'Max_PM1_AIR_U_Sensor', 'Min_Temperature_AIR_U_Sensor', 'Max_Temperature_AIR_U_Sensor']\n",
            "29\n"
          ],
          "name": "stdout"
        }
      ]
    },
    {
      "cell_type": "markdown",
      "metadata": {
        "id": "9FDEN1zQ5lq8",
        "colab_type": "text"
      },
      "source": [
        "Now we need to divide the training data from the validation data as well as inputs from outputs. In this case we will set up 70% training and 30% Validation.\n",
        "\n",
        "\n",
        "---\n",
        "\n"
      ]
    },
    {
      "cell_type": "code",
      "metadata": {
        "id": "v9IrtAqbwo5I",
        "colab_type": "code",
        "colab": {}
      },
      "source": [
        "na_len = 20\n",
        "nodes_array = np.linspace(6,150,na_len,dtype=int)\n",
        "layer = 4\n",
        "learning_rate = 0.05\n",
        "epochs = 20\n",
        "batchsize = 32\n",
        "droprate = 0.2\n",
        "repeat = 5"
      ],
      "execution_count": 0,
      "outputs": []
    },
    {
      "cell_type": "code",
      "metadata": {
        "id": "KUg0CuM152yC",
        "colab_type": "code",
        "colab": {}
      },
      "source": [
        "header_num = len(header)\n",
        "Full_List = list(np.arange(0,header_num-1+1e-6,1,dtype=int))\n",
        "Y_Loc =  header.index('O3 Value')\n",
        "Y_header_list = []\n",
        "Y_header_list.append(Y_Loc)\n",
        "X_header_list = list(set(Full_List)-set(Y_header_list))\n",
        "data_array = np.array(df)\n",
        "train_list,valid_list = norm_divider(data_array)\n",
        "X,Y,X_valid,Y_valid = divider_XY(X_header_list,Y_header_list,data_array,train_list,valid_list)\n",
        "mse_mean_array = np.zeros(na_len)\n",
        "r2_mean_array = np.zeros(na_len)\n",
        "mse_std_array = np.zeros(na_len)\n",
        "r2_std_array = np.zeros(na_len)\n"
      ],
      "execution_count": 0,
      "outputs": []
    },
    {
      "cell_type": "markdown",
      "metadata": {
        "id": "BJ2iFnOQ0Jn9",
        "colab_type": "text"
      },
      "source": [
        "Now we need to specify the neural network archetecture (layers (how deep) and nodes (how wide)), the learning rate (how aggressive the optimizer is),  how long to train, and batch sizes. Finally we want to use the validation data to evaluate the neural network.\n"
      ]
    },
    {
      "cell_type": "code",
      "metadata": {
        "id": "fOZ2GHkl0nYT",
        "colab_type": "code",
        "outputId": "a4884763-babd-480b-8217-da5ee31949f1",
        "colab": {
          "base_uri": "https://localhost:8080/",
          "height": 1000
        }
      },
      "source": [
        "for i in range(0,na_len,1):\n",
        "  print('i = %d'%i)\n",
        "  mse_temp = np.zeros(repeat)\n",
        "  r2_temp = np.zeros(repeat)\n",
        "  for j in range(0,repeat,1):\n",
        "    K.clear_session()\n",
        "    nodes = nodes_array[i]\n",
        "\n",
        "    input_dim_ = len(X_header_list)\n",
        "    output_dim_ = len(Y_header_list)\n",
        "    model = model_neural_network(layer,nodes,input_dim_,output_dim_,DropPercent = droprate)\n",
        "    optimizers.Adam(lr=learning_rate)\n",
        "    model.compile(loss='mean_squared_error',optimizer=\"adam\", metrics=[r2_keras])\n",
        "    history = model.fit(x=X, y = Y, nb_epoch=epochs, batch_size=batchsize,verbose = 0)\n",
        "    Y_pred = model.predict(X_valid)\n",
        "    mse_temp[j] = mse(Y_valid,Y_pred)\n",
        "    r2_temp[j] = r2(Y_valid,Y_pred)\n",
        "    print('j = %d'%j)\n",
        "  mse_mean_array[i] = np.mean(mse_temp)\n",
        "  r2_mean_array[i] = np.mean(r2_temp)\n",
        "  mse_std_array[i] = np.std(mse_temp)\n",
        "  r2_std_array[i] = np.std(r2_temp)\n"
      ],
      "execution_count": 0,
      "outputs": [
        {
          "output_type": "stream",
          "text": [
            "i = 0\n"
          ],
          "name": "stdout"
        },
        {
          "output_type": "stream",
          "text": [
            "/usr/local/lib/python3.6/dist-packages/ipykernel_launcher.py:14: UserWarning: The `nb_epoch` argument in `fit` has been renamed `epochs`.\n",
            "  \n"
          ],
          "name": "stderr"
        },
        {
          "output_type": "stream",
          "text": [
            "j = 0\n",
            "j = 1\n",
            "j = 2\n",
            "j = 3\n",
            "j = 4\n",
            "i = 1\n",
            "j = 0\n",
            "j = 1\n",
            "j = 2\n",
            "j = 3\n",
            "j = 4\n",
            "i = 2\n",
            "j = 0\n",
            "j = 1\n",
            "j = 2\n",
            "j = 3\n",
            "j = 4\n",
            "i = 3\n",
            "j = 0\n",
            "j = 1\n",
            "j = 2\n",
            "j = 3\n",
            "j = 4\n",
            "i = 4\n",
            "j = 0\n",
            "j = 1\n",
            "j = 2\n",
            "j = 3\n",
            "j = 4\n",
            "i = 5\n",
            "j = 0\n",
            "j = 1\n",
            "j = 2\n",
            "j = 3\n",
            "j = 4\n",
            "i = 6\n",
            "j = 0\n",
            "j = 1\n",
            "j = 2\n",
            "j = 3\n",
            "j = 4\n",
            "i = 7\n",
            "j = 0\n",
            "j = 1\n",
            "j = 2\n",
            "j = 3\n",
            "j = 4\n",
            "i = 8\n",
            "j = 0\n",
            "j = 1\n",
            "j = 2\n",
            "j = 3\n",
            "j = 4\n",
            "i = 9\n",
            "j = 0\n",
            "j = 1\n",
            "j = 2\n",
            "j = 3\n",
            "j = 4\n",
            "i = 10\n",
            "j = 0\n",
            "j = 1\n",
            "j = 2\n",
            "j = 3\n",
            "j = 4\n",
            "i = 11\n",
            "j = 0\n",
            "j = 1\n",
            "j = 2\n",
            "j = 3\n",
            "j = 4\n",
            "i = 12\n",
            "j = 0\n",
            "j = 1\n",
            "j = 2\n",
            "j = 3\n",
            "j = 4\n",
            "i = 13\n",
            "j = 0\n",
            "j = 1\n",
            "j = 2\n",
            "j = 3\n",
            "j = 4\n",
            "i = 14\n",
            "j = 0\n",
            "j = 1\n",
            "j = 2\n",
            "j = 3\n",
            "j = 4\n",
            "i = 15\n",
            "j = 0\n",
            "j = 1\n",
            "j = 2\n",
            "j = 3\n",
            "j = 4\n",
            "i = 16\n",
            "j = 0\n",
            "j = 1\n",
            "j = 2\n",
            "j = 3\n",
            "j = 4\n",
            "i = 17\n",
            "j = 0\n",
            "j = 1\n",
            "j = 2\n",
            "j = 3\n",
            "j = 4\n",
            "i = 18\n",
            "j = 0\n",
            "j = 1\n",
            "j = 2\n",
            "j = 3\n",
            "j = 4\n",
            "i = 19\n",
            "j = 0\n",
            "j = 1\n",
            "j = 2\n",
            "j = 3\n",
            "j = 4\n"
          ],
          "name": "stdout"
        }
      ]
    },
    {
      "cell_type": "code",
      "metadata": {
        "id": "6ZOLFz11Qw0t",
        "colab_type": "code",
        "outputId": "150d2b3f-729a-4306-bb3e-de78ce5c3cb4",
        "colab": {
          "base_uri": "https://localhost:8080/",
          "height": 720
        }
      },
      "source": [
        "from google.colab import files\n",
        "\n",
        "fig = plt.figure()\n",
        "plt.errorbar(nodes_array, mse_mean_array, mse_std_array,fmt='o')\n",
        "plt.xlabel('Nodes (n)')\n",
        "plt.ylabel('Mean Squared Error (MSE)')\n",
        "\n",
        "name = str(layer)+'_MSE_Nodes_Study.jpg'\n",
        "plt.savefig(name,dpi=300)\n",
        "files.download(name)\n",
        "\n",
        "plt.figure()\n",
        "plt.errorbar(nodes_array, r2_mean_array, r2_std_array,fmt='o')\n",
        "plt.xlabel('Nodes (n)')\n",
        "plt.ylabel('Linearity ($R^2$)')\n",
        "\n",
        "name = str(layer)+'_R2_Nodes_Study.jpg'\n",
        "plt.savefig(name,dpi=300)\n",
        "files.download(name)\n",
        "\n",
        "print(nodes_array)\n",
        "print(mse_mean_array)\n",
        "print(r2_mean_array)"
      ],
      "execution_count": 0,
      "outputs": [
        {
          "output_type": "stream",
          "text": [
            "[  6  13  21  28  36  43  51  59  66  74  81  89  96 104 112 119 127 134\n",
            " 142 150]\n",
            "[0.02082666 0.0126863  0.01558953 0.01171369 0.00998424 0.01023454\n",
            " 0.0088358  0.00823889 0.0087599  0.00796446 0.0080577  0.00795954\n",
            " 0.00722067 0.00762206 0.00757577 0.00701721 0.00699189 0.00707636\n",
            " 0.00710349 0.00664142]\n",
            "[0.62259592 0.77010907 0.7174991  0.78773397 0.81907366 0.81453792\n",
            " 0.83988477 0.8507014  0.84126019 0.85567445 0.85398488 0.85576351\n",
            " 0.86915276 0.86187916 0.86271799 0.87283978 0.87329857 0.87176794\n",
            " 0.87127625 0.87964942]\n"
          ],
          "name": "stdout"
        },
        {
          "output_type": "display_data",
          "data": {
            "image/png": "[encoded data removed]",
            "text/plain": [
              "<Figure size 432x288 with 1 Axes>"
            ]
          },
          "metadata": {
            "tags": []
          }
        },
        {
          "output_type": "display_data",
          "data": {
            "image/png": "[encoded data removed]",
            "text/plain": [
              "<Figure size 432x288 with 1 Axes>"
            ]
          },
          "metadata": {
            "tags": []
          }
        }
      ]
    },
    {
      "cell_type": "code",
      "metadata": {
        "id": "cGk6PqrLkHeh",
        "colab_type": "code",
        "outputId": "3265215a-0d78-446a-cfaa-019c1812a333",
        "colab": {
          "base_uri": "https://localhost:8080/",
          "height": 340
        }
      },
      "source": [
        "data = np.vstack([nodes_array,mse_mean_array,mse_std_array,r2_mean_array,r2_std_array]).transpose()\n",
        "name_list = ['Nodes','MSE_Mean','MSE_StD','R2_Mean','R2_StD']\n",
        "name =export_text(data,name_list,layer,repeat)\n",
        "files.download(name)\n"
      ],
      "execution_count": 0,
      "outputs": [
        {
          "output_type": "error",
          "ename": "MessageError",
          "evalue": "ignored",
          "traceback": [
            "\u001b[0;31m---------------------------------------------------------------------------\u001b[0m",
            "\u001b[0;31mMessageError\u001b[0m                              Traceback (most recent call last)",
            "\u001b[0;32m<ipython-input-58-b0b5a5db0764>\u001b[0m in \u001b[0;36m<module>\u001b[0;34m()\u001b[0m\n\u001b[1;32m      2\u001b[0m \u001b[0mname_list\u001b[0m \u001b[0;34m=\u001b[0m \u001b[0;34m[\u001b[0m\u001b[0;34m'Nodes'\u001b[0m\u001b[0;34m,\u001b[0m\u001b[0;34m'MSE_Mean'\u001b[0m\u001b[0;34m,\u001b[0m\u001b[0;34m'MSE_StD'\u001b[0m\u001b[0;34m,\u001b[0m\u001b[0;34m'R2_Mean'\u001b[0m\u001b[0;34m,\u001b[0m\u001b[0;34m'R2_StD'\u001b[0m\u001b[0;34m]\u001b[0m\u001b[0;34m\u001b[0m\u001b[0;34m\u001b[0m\u001b[0m\n\u001b[1;32m      3\u001b[0m \u001b[0mname\u001b[0m \u001b[0;34m=\u001b[0m\u001b[0mexport_text\u001b[0m\u001b[0;34m(\u001b[0m\u001b[0mdata\u001b[0m\u001b[0;34m,\u001b[0m\u001b[0mname_list\u001b[0m\u001b[0;34m,\u001b[0m\u001b[0mlayer\u001b[0m\u001b[0;34m,\u001b[0m\u001b[0mrepeat\u001b[0m\u001b[0;34m)\u001b[0m\u001b[0;34m\u001b[0m\u001b[0;34m\u001b[0m\u001b[0m\n\u001b[0;32m----> 4\u001b[0;31m \u001b[0mfiles\u001b[0m\u001b[0;34m.\u001b[0m\u001b[0mdownload\u001b[0m\u001b[0;34m(\u001b[0m\u001b[0mname\u001b[0m\u001b[0;34m)\u001b[0m\u001b[0;34m\u001b[0m\u001b[0;34m\u001b[0m\u001b[0m\n\u001b[0m",
            "\u001b[0;32m/usr/local/lib/python3.6/dist-packages/google/colab/files.py\u001b[0m in \u001b[0;36mdownload\u001b[0;34m(filename)\u001b[0m\n\u001b[1;32m    176\u001b[0m       \u001b[0;34m'port'\u001b[0m\u001b[0;34m:\u001b[0m \u001b[0mport\u001b[0m\u001b[0;34m,\u001b[0m\u001b[0;34m\u001b[0m\u001b[0;34m\u001b[0m\u001b[0m\n\u001b[1;32m    177\u001b[0m       \u001b[0;34m'path'\u001b[0m\u001b[0;34m:\u001b[0m \u001b[0m_os\u001b[0m\u001b[0;34m.\u001b[0m\u001b[0mpath\u001b[0m\u001b[0;34m.\u001b[0m\u001b[0mabspath\u001b[0m\u001b[0;34m(\u001b[0m\u001b[0mfilename\u001b[0m\u001b[0;34m)\u001b[0m\u001b[0;34m,\u001b[0m\u001b[0;34m\u001b[0m\u001b[0;34m\u001b[0m\u001b[0m\n\u001b[0;32m--> 178\u001b[0;31m       \u001b[0;34m'name'\u001b[0m\u001b[0;34m:\u001b[0m \u001b[0m_os\u001b[0m\u001b[0;34m.\u001b[0m\u001b[0mpath\u001b[0m\u001b[0;34m.\u001b[0m\u001b[0mbasename\u001b[0m\u001b[0;34m(\u001b[0m\u001b[0mfilename\u001b[0m\u001b[0;34m)\u001b[0m\u001b[0;34m,\u001b[0m\u001b[0;34m\u001b[0m\u001b[0;34m\u001b[0m\u001b[0m\n\u001b[0m\u001b[1;32m    179\u001b[0m   })\n",
            "\u001b[0;32m/usr/local/lib/python3.6/dist-packages/google/colab/output/_js.py\u001b[0m in \u001b[0;36meval_js\u001b[0;34m(script, ignore_result)\u001b[0m\n\u001b[1;32m     37\u001b[0m   \u001b[0;32mif\u001b[0m \u001b[0mignore_result\u001b[0m\u001b[0;34m:\u001b[0m\u001b[0;34m\u001b[0m\u001b[0;34m\u001b[0m\u001b[0m\n\u001b[1;32m     38\u001b[0m     \u001b[0;32mreturn\u001b[0m\u001b[0;34m\u001b[0m\u001b[0;34m\u001b[0m\u001b[0m\n\u001b[0;32m---> 39\u001b[0;31m   \u001b[0;32mreturn\u001b[0m \u001b[0m_message\u001b[0m\u001b[0;34m.\u001b[0m\u001b[0mread_reply_from_input\u001b[0m\u001b[0;34m(\u001b[0m\u001b[0mrequest_id\u001b[0m\u001b[0;34m)\u001b[0m\u001b[0;34m\u001b[0m\u001b[0;34m\u001b[0m\u001b[0m\n\u001b[0m\u001b[1;32m     40\u001b[0m \u001b[0;34m\u001b[0m\u001b[0m\n\u001b[1;32m     41\u001b[0m \u001b[0;34m\u001b[0m\u001b[0m\n",
            "\u001b[0;32m/usr/local/lib/python3.6/dist-packages/google/colab/_message.py\u001b[0m in \u001b[0;36mread_reply_from_input\u001b[0;34m(message_id, timeout_sec)\u001b[0m\n\u001b[1;32m    104\u001b[0m         reply.get('colab_msg_id') == message_id):\n\u001b[1;32m    105\u001b[0m       \u001b[0;32mif\u001b[0m \u001b[0;34m'error'\u001b[0m \u001b[0;32min\u001b[0m \u001b[0mreply\u001b[0m\u001b[0;34m:\u001b[0m\u001b[0;34m\u001b[0m\u001b[0;34m\u001b[0m\u001b[0m\n\u001b[0;32m--> 106\u001b[0;31m         \u001b[0;32mraise\u001b[0m \u001b[0mMessageError\u001b[0m\u001b[0;34m(\u001b[0m\u001b[0mreply\u001b[0m\u001b[0;34m[\u001b[0m\u001b[0;34m'error'\u001b[0m\u001b[0;34m]\u001b[0m\u001b[0;34m)\u001b[0m\u001b[0;34m\u001b[0m\u001b[0;34m\u001b[0m\u001b[0m\n\u001b[0m\u001b[1;32m    107\u001b[0m       \u001b[0;32mreturn\u001b[0m \u001b[0mreply\u001b[0m\u001b[0;34m.\u001b[0m\u001b[0mget\u001b[0m\u001b[0;34m(\u001b[0m\u001b[0;34m'data'\u001b[0m\u001b[0;34m,\u001b[0m \u001b[0;32mNone\u001b[0m\u001b[0;34m)\u001b[0m\u001b[0;34m\u001b[0m\u001b[0;34m\u001b[0m\u001b[0m\n\u001b[1;32m    108\u001b[0m \u001b[0;34m\u001b[0m\u001b[0m\n",
            "\u001b[0;31mMessageError\u001b[0m: TypeError: Failed to fetch"
          ]
        }
      ]
    }
  ]
}